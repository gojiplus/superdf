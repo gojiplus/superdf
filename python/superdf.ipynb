{
 "cells": [
  {
   "cell_type": "markdown",
   "id": "dbf48e34-536c-4fb9-9bf2-1ed714cea2bd",
   "metadata": {},
   "source": [
    "### Extend the DataFrame Class"
   ]
  },
  {
   "cell_type": "code",
   "execution_count": 5,
   "id": "ba7ba7e4-2031-40f9-aa18-c318244c67c4",
   "metadata": {},
   "outputs": [],
   "source": [
    "import pandas as pd\n",
    "import pickle\n",
    "\n",
    "class SuperDataFrame(pd.DataFrame):\n",
    "    _metadata = ['version', 'author', 'notes']\n",
    "\n",
    "    def __init__(self, *args, **kwargs):\n",
    "        self.version = None\n",
    "        self.author = None\n",
    "        self.notes = None\n",
    "        super().__init__(*args, **kwargs)\n",
    "\n",
    "    def add_version(self, version):\n",
    "        self.version = version\n",
    "\n",
    "    def add_author(self, author):\n",
    "        self.author = author\n",
    "\n",
    "    def add_notes(self, notes):\n",
    "        self.notes = notes\n",
    "\n",
    "    def __getstate__(self):\n",
    "        state = super().__getstate__()\n",
    "        state.update({attr: getattr(self, attr) for attr in self._metadata})\n",
    "        return state\n",
    "\n",
    "    def __setstate__(self, state):\n",
    "        for attr in self._metadata:\n",
    "            setattr(self, attr, state.pop(attr, None))\n",
    "        super().__setstate__(state)"
   ]
  },
  {
   "cell_type": "code",
   "execution_count": 6,
   "id": "a463e781-3ddb-496e-ab21-e0f465178f48",
   "metadata": {},
   "outputs": [],
   "source": [
    "# Create an instance of SuperDataFrame\n",
    "df = SuperDataFrame(data={'A': [1, 2, 3], 'B': [4, 5, 6]})\n",
    "\n",
    "# Add attributes\n",
    "df.add_version('1.0')\n",
    "df.add_author('John Doe')\n",
    "df.add_notes('Sample dataframe')\n",
    "\n",
    "# Pickle the object\n",
    "with open('mydataframe.pkl', 'wb') as f:\n",
    "    pickle.dump(df, f)\n",
    "\n",
    "# Unpickle the object\n",
    "with open('mydataframe.pkl', 'rb') as f:\n",
    "    df_restored = pickle.load(f)"
   ]
  },
  {
   "cell_type": "code",
   "execution_count": 7,
   "id": "7677461a-ec23-4c12-851a-86a51276c139",
   "metadata": {},
   "outputs": [
    {
     "data": {
      "text/html": [
       "<div>\n",
       "<style scoped>\n",
       "    .dataframe tbody tr th:only-of-type {\n",
       "        vertical-align: middle;\n",
       "    }\n",
       "\n",
       "    .dataframe tbody tr th {\n",
       "        vertical-align: top;\n",
       "    }\n",
       "\n",
       "    .dataframe thead th {\n",
       "        text-align: right;\n",
       "    }\n",
       "</style>\n",
       "<table border=\"1\" class=\"dataframe\">\n",
       "  <thead>\n",
       "    <tr style=\"text-align: right;\">\n",
       "      <th></th>\n",
       "      <th>A</th>\n",
       "      <th>B</th>\n",
       "    </tr>\n",
       "  </thead>\n",
       "  <tbody>\n",
       "    <tr>\n",
       "      <th>0</th>\n",
       "      <td>1</td>\n",
       "      <td>4</td>\n",
       "    </tr>\n",
       "    <tr>\n",
       "      <th>1</th>\n",
       "      <td>2</td>\n",
       "      <td>5</td>\n",
       "    </tr>\n",
       "    <tr>\n",
       "      <th>2</th>\n",
       "      <td>3</td>\n",
       "      <td>6</td>\n",
       "    </tr>\n",
       "  </tbody>\n",
       "</table>\n",
       "</div>"
      ],
      "text/plain": [
       "   A  B\n",
       "0  1  4\n",
       "1  2  5\n",
       "2  3  6"
      ]
     },
     "execution_count": 7,
     "metadata": {},
     "output_type": "execute_result"
    }
   ],
   "source": [
    "df_restored"
   ]
  },
  {
   "cell_type": "code",
   "execution_count": 8,
   "id": "d3e8b2ea-8323-46db-9d51-a1f41eb413c8",
   "metadata": {},
   "outputs": [
    {
     "data": {
      "text/plain": [
       "'1.0'"
      ]
     },
     "execution_count": 8,
     "metadata": {},
     "output_type": "execute_result"
    }
   ],
   "source": [
    "df_restored.version"
   ]
  },
  {
   "cell_type": "markdown",
   "id": "a664327c-f022-4c67-91b2-e00715429aa9",
   "metadata": {},
   "source": [
    "### We can make some attributes essential for posting to dataverse etc."
   ]
  },
  {
   "cell_type": "code",
   "execution_count": 9,
   "id": "a9b79617-0527-4ce6-8be0-f0a4ffb209da",
   "metadata": {},
   "outputs": [],
   "source": [
    "import pandas as pd\n",
    "import pickle\n",
    "\n",
    "class SuperDataFrame(pd.DataFrame):\n",
    "    _metadata = ['version', 'author', 'notes']\n",
    "\n",
    "    def __init__(self, *args, version=None, author=None, notes=None, **kwargs):\n",
    "        if version is None or author is None or notes is None:\n",
    "            raise ValueError(\"version, author, and notes are required attributes\")\n",
    "        self.version = version\n",
    "        self.author = author\n",
    "        self.notes = notes\n",
    "        super().__init__(*args, **kwargs)\n",
    "\n",
    "    def __getstate__(self):\n",
    "        state = super().__getstate__()\n",
    "        state.update({attr: getattr(self, attr) for attr in self._metadata})\n",
    "        return state\n",
    "\n",
    "    def __setstate__(self, state):\n",
    "        for attr in self._metadata:\n",
    "            setattr(self, attr, state.pop(attr, None))\n",
    "        super().__setstate__(state)"
   ]
  },
  {
   "cell_type": "code",
   "execution_count": 10,
   "id": "b28a7382-6d53-4374-baf8-63687a8d6d5f",
   "metadata": {},
   "outputs": [
    {
     "ename": "ValueError",
     "evalue": "version, author, and notes are required attributes",
     "output_type": "error",
     "traceback": [
      "\u001b[0;31m---------------------------------------------------------------------------\u001b[0m",
      "\u001b[0;31mValueError\u001b[0m                                Traceback (most recent call last)",
      "\u001b[0;32m/tmp/ipykernel_2853708/3324142276.py\u001b[0m in \u001b[0;36m<cell line: 2>\u001b[0;34m()\u001b[0m\n\u001b[1;32m      1\u001b[0m \u001b[0;31m# Create an instance of SuperDataFrame\u001b[0m\u001b[0;34m\u001b[0m\u001b[0;34m\u001b[0m\u001b[0;34m\u001b[0m\u001b[0m\n\u001b[0;32m----> 2\u001b[0;31m df = SuperDataFrame(data={'A': [1, 2, 3], 'B': [4, 5, 6]}, \n\u001b[0m\u001b[1;32m      3\u001b[0m                     \u001b[0mversion\u001b[0m\u001b[0;34m=\u001b[0m\u001b[0;34m'1.0'\u001b[0m\u001b[0;34m,\u001b[0m\u001b[0;34m\u001b[0m\u001b[0;34m\u001b[0m\u001b[0m\n\u001b[1;32m      4\u001b[0m                     author='John Doe')\n",
      "\u001b[0;32m/tmp/ipykernel_2853708/2458983255.py\u001b[0m in \u001b[0;36m__init__\u001b[0;34m(self, version, author, notes, *args, **kwargs)\u001b[0m\n\u001b[1;32m      7\u001b[0m     \u001b[0;32mdef\u001b[0m \u001b[0m__init__\u001b[0m\u001b[0;34m(\u001b[0m\u001b[0mself\u001b[0m\u001b[0;34m,\u001b[0m \u001b[0;34m*\u001b[0m\u001b[0margs\u001b[0m\u001b[0;34m,\u001b[0m \u001b[0mversion\u001b[0m\u001b[0;34m=\u001b[0m\u001b[0;32mNone\u001b[0m\u001b[0;34m,\u001b[0m \u001b[0mauthor\u001b[0m\u001b[0;34m=\u001b[0m\u001b[0;32mNone\u001b[0m\u001b[0;34m,\u001b[0m \u001b[0mnotes\u001b[0m\u001b[0;34m=\u001b[0m\u001b[0;32mNone\u001b[0m\u001b[0;34m,\u001b[0m \u001b[0;34m**\u001b[0m\u001b[0mkwargs\u001b[0m\u001b[0;34m)\u001b[0m\u001b[0;34m:\u001b[0m\u001b[0;34m\u001b[0m\u001b[0;34m\u001b[0m\u001b[0m\n\u001b[1;32m      8\u001b[0m         \u001b[0;32mif\u001b[0m \u001b[0mversion\u001b[0m \u001b[0;32mis\u001b[0m \u001b[0;32mNone\u001b[0m \u001b[0;32mor\u001b[0m \u001b[0mauthor\u001b[0m \u001b[0;32mis\u001b[0m \u001b[0;32mNone\u001b[0m \u001b[0;32mor\u001b[0m \u001b[0mnotes\u001b[0m \u001b[0;32mis\u001b[0m \u001b[0;32mNone\u001b[0m\u001b[0;34m:\u001b[0m\u001b[0;34m\u001b[0m\u001b[0;34m\u001b[0m\u001b[0m\n\u001b[0;32m----> 9\u001b[0;31m             \u001b[0;32mraise\u001b[0m \u001b[0mValueError\u001b[0m\u001b[0;34m(\u001b[0m\u001b[0;34m\"version, author, and notes are required attributes\"\u001b[0m\u001b[0;34m)\u001b[0m\u001b[0;34m\u001b[0m\u001b[0;34m\u001b[0m\u001b[0m\n\u001b[0m\u001b[1;32m     10\u001b[0m         \u001b[0mself\u001b[0m\u001b[0;34m.\u001b[0m\u001b[0mversion\u001b[0m \u001b[0;34m=\u001b[0m \u001b[0mversion\u001b[0m\u001b[0;34m\u001b[0m\u001b[0;34m\u001b[0m\u001b[0m\n\u001b[1;32m     11\u001b[0m         \u001b[0mself\u001b[0m\u001b[0;34m.\u001b[0m\u001b[0mauthor\u001b[0m \u001b[0;34m=\u001b[0m \u001b[0mauthor\u001b[0m\u001b[0;34m\u001b[0m\u001b[0;34m\u001b[0m\u001b[0m\n",
      "\u001b[0;31mValueError\u001b[0m: version, author, and notes are required attributes"
     ]
    }
   ],
   "source": [
    "# Create an instance of SuperDataFrame\n",
    "df = SuperDataFrame(data={'A': [1, 2, 3], 'B': [4, 5, 6]}, \n",
    "                    version='1.0', \n",
    "                    author='John Doe')"
   ]
  },
  {
   "cell_type": "code",
   "execution_count": null,
   "id": "57d48957-819a-496d-ae1c-44e4b475c63e",
   "metadata": {},
   "outputs": [],
   "source": []
  }
 ],
 "metadata": {
  "kernelspec": {
   "display_name": "Python 3 (ipykernel)",
   "language": "python",
   "name": "python3"
  },
  "language_info": {
   "codemirror_mode": {
    "name": "ipython",
    "version": 3
   },
   "file_extension": ".py",
   "mimetype": "text/x-python",
   "name": "python",
   "nbconvert_exporter": "python",
   "pygments_lexer": "ipython3",
   "version": "3.8.10"
  }
 },
 "nbformat": 4,
 "nbformat_minor": 5
}
